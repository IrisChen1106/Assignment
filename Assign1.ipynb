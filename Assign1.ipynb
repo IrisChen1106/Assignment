{
 "cells": [
  {
   "cell_type": "code",
   "execution_count": 2,
   "id": "b3581b14",
   "metadata": {},
   "outputs": [
    {
     "name": "stdout",
     "output_type": "stream",
     "text": [
      "Total number of unique bracelets: 100\n"
     ]
    }
   ],
   "source": [
    "def generate_bracelet(a, b):\n",
    "    sequence = [a, b]\n",
    "    while True:\n",
    "        next_number = (sequence[-1] + sequence[-2]) % 10\n",
    "        sequence.append(next_number)\n",
    "        if sequence[-2:] == [a, b]:\n",
    "            break\n",
    "    return sequence[:-2]\n",
    "\n",
    "def count_unique_bracelets():\n",
    "    unique_bracelets = set()\n",
    "    for a in range(10):\n",
    "        for b in range(10):\n",
    "            bracelet = tuple(generate_bracelet(a, b))\n",
    "            unique_bracelets.add(bracelet)\n",
    "    return len(unique_bracelets)\n",
    "\n",
    "total_bracelets = count_unique_bracelets()\n",
    "print(f\"Total number of unique bracelets: {total_bracelets}\")\n"
   ]
  },
  {
   "cell_type": "code",
   "execution_count": null,
   "id": "4c75f56e",
   "metadata": {},
   "outputs": [],
   "source": []
  }
 ],
 "metadata": {
  "kernelspec": {
   "display_name": "Python 3 (ipykernel)",
   "language": "python",
   "name": "python3"
  },
  "language_info": {
   "codemirror_mode": {
    "name": "ipython",
    "version": 3
   },
   "file_extension": ".py",
   "mimetype": "text/x-python",
   "name": "python",
   "nbconvert_exporter": "python",
   "pygments_lexer": "ipython3",
   "version": "3.11.3"
  }
 },
 "nbformat": 4,
 "nbformat_minor": 5
}
