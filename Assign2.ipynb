{
 "cells": [
  {
   "cell_type": "code",
   "execution_count": null,
   "id": "85c8814a",
   "metadata": {
    "scrolled": true
   },
   "outputs": [
    {
     "name": "stdout",
     "output_type": "stream",
     "text": [
      "-1 -1 -1\n",
      "-1 -1 -1\n",
      "-1 -1 -1\n",
      "\n",
      "Player 0, enter your move (row col): \n"
     ]
    }
   ],
   "source": [
    "import numpy as np\n",
    "\n",
    "def is_zero_determinant(matrix):\n",
    "    return np.linalg.det(matrix) == 0\n",
    "\n",
    "def print_matrix(matrix):\n",
    "    for row in matrix:\n",
    "        print(' '.join(str(int(cell)) for cell in row))\n",
    "    print()\n",
    "\n",
    "def player_move(matrix, player):\n",
    "    valid_move = False\n",
    "    while not valid_move:\n",
    "        print(f\"Player {player}, enter your move (row col): \")\n",
    "        try:\n",
    "            row, col = map(int, input().split())\n",
    "            row, col = row -1, col-1\n",
    "            if matrix[row][col] == -1:\n",
    "                matrix[row][col] = player\n",
    "                valid_move = True\n",
    "            else:\n",
    "                print(\"This cell is already filled. Choose another one.\")\n",
    "        except (ValueError, IndexError):\n",
    "            print(\"Invalid move. Please enter row and column as two numbers separated by a space.\")\n",
    "\n",
    "def play_game(n):\n",
    "    matrix = np.full((n, n), -1)\n",
    "    turns = n * n\n",
    "    player = 0 \n",
    "\n",
    "    for _ in range(turns):\n",
    "        print_matrix(matrix)\n",
    "        player_move(matrix, player)\n",
    "        \n",
    "        if np.all(matrix != -1): \n",
    "            if is_zero_determinant(matrix):\n",
    "                print(\"Game Over: The matrix has a zero determinant. Player\", player, \"wins!\")\n",
    "                print_matrix(matrix)\n",
    "                return\n",
    "            elif _ == turns-1:\n",
    "                print(\"Game Over: The matrix does not have a zero determinant. It's a draw!\")\n",
    "                print_matrix(matrix)\n",
    "                return\n",
    "        \n",
    "        player = 1 - player\n",
    "\n",
    "    print(\"Game Over: It's a draw!\")\n",
    "    print_matrix(matrix)\n",
    "\n",
    "\n",
    "play_game(3)"
   ]
  }
 ],
 "metadata": {
  "kernelspec": {
   "display_name": "Python 3 (ipykernel)",
   "language": "python",
   "name": "python3"
  },
  "language_info": {
   "codemirror_mode": {
    "name": "ipython",
    "version": 3
   },
   "file_extension": ".py",
   "mimetype": "text/x-python",
   "name": "python",
   "nbconvert_exporter": "python",
   "pygments_lexer": "ipython3",
   "version": "3.11.3"
  }
 },
 "nbformat": 4,
 "nbformat_minor": 5
}
