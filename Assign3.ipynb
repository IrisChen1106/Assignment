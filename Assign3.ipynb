{
 "cells": [
  {
   "cell_type": "code",
   "execution_count": 1,
   "id": "27c96c3c",
   "metadata": {},
   "outputs": [
    {
     "name": "stdout",
     "output_type": "stream",
     "text": [
      "The final remaining number is: 452\n"
     ]
    }
   ],
   "source": [
    "import random\n",
    "\n",
    "def simulate_game(numbers):\n",
    "    while len(numbers) > 1:\n",
    "        a, b = random.sample(numbers, 2)\n",
    "        diff = abs(a - b)\n",
    "        numbers.remove(a)\n",
    "        numbers.remove(b)\n",
    "        numbers.append(diff)\n",
    "    return numbers[0]\n",
    "\n",
    "numbers = list(range(1, 2024))\n",
    "final_number = simulate_game(numbers)\n",
    "print(f\"The final remaining number is: {final_number}\")\n"
   ]
  },
  {
   "cell_type": "code",
   "execution_count": null,
   "id": "71317e66",
   "metadata": {},
   "outputs": [],
   "source": []
  }
 ],
 "metadata": {
  "kernelspec": {
   "display_name": "Python 3 (ipykernel)",
   "language": "python",
   "name": "python3"
  },
  "language_info": {
   "codemirror_mode": {
    "name": "ipython",
    "version": 3
   },
   "file_extension": ".py",
   "mimetype": "text/x-python",
   "name": "python",
   "nbconvert_exporter": "python",
   "pygments_lexer": "ipython3",
   "version": "3.11.3"
  }
 },
 "nbformat": 4,
 "nbformat_minor": 5
}
