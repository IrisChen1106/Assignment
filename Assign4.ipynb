{
 "cells": [
  {
   "cell_type": "code",
   "execution_count": 1,
   "id": "e38453d2",
   "metadata": {},
   "outputs": [
    {
     "name": "stdout",
     "output_type": "stream",
     "text": [
      "T(25) = 11184810\n",
      "P(25) = 0.6666666269302368\n"
     ]
    }
   ],
   "source": [
    "def calculate_T(n):\n",
    "    \"\"\"\n",
    "    T(1) = 1, T(2) = 1\n",
    "    T(2n) = 2T(2n-1) + 1\n",
    "    T(2n+1) = 2T(2n)\n",
    "    \n",
    "    \"\"\"\n",
    "    if n == 1 or n == 2:\n",
    "        return 1\n",
    "\n",
    "    if n % 2 == 0:\n",
    "        return 2 * calculate_T(n - 1) + 1\n",
    "    else: \n",
    "        return 2 * calculate_T(n - 1)\n",
    "\n",
    "def calculate_P(n):\n",
    "    T_n = calculate_T(n)\n",
    "    return T_n / 2 ** (n - 1)\n",
    "\n",
    "n = 25 \n",
    "print(f\"T({n}) = {calculate_T(n)}\")\n",
    "print(f\"P({n}) = {calculate_P(n)}\")\n"
   ]
  },
  {
   "cell_type": "code",
   "execution_count": 2,
   "id": "eddbe4e3",
   "metadata": {},
   "outputs": [
    {
     "name": "stdout",
     "output_type": "stream",
     "text": [
      "n = 1, LHS = 2, RHS = 2, Equal: True\n",
      "n = 2, LHS = 10, RHS = 10, Equal: True\n",
      "n = 3, LHS = 42, RHS = 42, Equal: True\n",
      "n = 4, LHS = 170, RHS = 170, Equal: True\n",
      "n = 5, LHS = 682, RHS = 682, Equal: True\n"
     ]
    }
   ],
   "source": [
    "from scipy.special import comb\n",
    "import numpy as np\n",
    "\n",
    "def calculate_lhs(n):\n",
    "    lhs_sum = 0\n",
    "    for k in range(1, n+1):\n",
    "        lhs_sum += comb(2*n - (k-1), k, exact=True) * (2 ** (k-1))\n",
    "    return lhs_sum\n",
    "\n",
    "def calculate_rhs(n):\n",
    "    rhs_sum = 0\n",
    "    for k in range(1, n+1):\n",
    "        rhs_sum += comb(2*n - k, k, exact=True) * (2 ** k)\n",
    "    return rhs_sum\n",
    "\n",
    "n_values = range(1, 6) \n",
    "results = []\n",
    "\n",
    "for n in n_values:\n",
    "    lhs = calculate_lhs(n)\n",
    "    rhs = calculate_rhs(n)\n",
    "    results.append((n, lhs, rhs, lhs == rhs))\n",
    "\n",
    "\n",
    "for n, lhs, rhs, equal in results:\n",
    "    print(f\"n = {n}, LHS = {lhs}, RHS = {rhs}, Equal: {equal}\")"
   ]
  }
 ],
 "metadata": {
  "kernelspec": {
   "display_name": "Python 3 (ipykernel)",
   "language": "python",
   "name": "python3"
  },
  "language_info": {
   "codemirror_mode": {
    "name": "ipython",
    "version": 3
   },
   "file_extension": ".py",
   "mimetype": "text/x-python",
   "name": "python",
   "nbconvert_exporter": "python",
   "pygments_lexer": "ipython3",
   "version": "3.11.3"
  }
 },
 "nbformat": 4,
 "nbformat_minor": 5
}
