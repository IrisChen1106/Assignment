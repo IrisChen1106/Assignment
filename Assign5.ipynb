{
 "cells": [
  {
   "cell_type": "code",
   "execution_count": 2,
   "id": "a801ed6e",
   "metadata": {},
   "outputs": [
    {
     "name": "stdout",
     "output_type": "stream",
     "text": [
      "(0, 2)\n"
     ]
    }
   ],
   "source": [
    "def spiral_position_anticlockwise(n):\n",
    "    # Special case for 1\n",
    "    if n == 1:\n",
    "        return (0, 0)\n",
    "\n",
    "    ring = 0\n",
    "    side_length = 1\n",
    "    while n > side_length**2:\n",
    "        ring += 1\n",
    "        side_length += 2\n",
    "\n",
    "    max_num_in_ring = side_length**2\n",
    "    side_len = side_length - 1\n",
    "    x, y = ring, -ring\n",
    "    current = max_num_in_ring\n",
    "\n",
    "    if n > current - side_len:\n",
    "        return (x - (current - n), y)\n",
    "\n",
    "    current -= side_len\n",
    "\n",
    "    if n > current - side_len:\n",
    "        return (x - side_len, y + (current - n))\n",
    "\n",
    "    current -= side_len\n",
    "\n",
    "    if n > current - side_len:\n",
    "        return (x - side_len + (current - n), y + side_len)\n",
    "\n",
    "    current -= side_len\n",
    "\n",
    "    return (x, y + side_len - (current - n))\n",
    "\n",
    "print(spiral_position_anticlockwise(15)) \n"
   ]
  },
  {
   "cell_type": "code",
   "execution_count": null,
   "id": "2a1c3261",
   "metadata": {},
   "outputs": [],
   "source": []
  },
  {
   "cell_type": "code",
   "execution_count": null,
   "id": "cb71cf5f",
   "metadata": {},
   "outputs": [],
   "source": []
  }
 ],
 "metadata": {
  "kernelspec": {
   "display_name": "Python 3 (ipykernel)",
   "language": "python",
   "name": "python3"
  },
  "language_info": {
   "codemirror_mode": {
    "name": "ipython",
    "version": 3
   },
   "file_extension": ".py",
   "mimetype": "text/x-python",
   "name": "python",
   "nbconvert_exporter": "python",
   "pygments_lexer": "ipython3",
   "version": "3.11.3"
  }
 },
 "nbformat": 4,
 "nbformat_minor": 5
}
